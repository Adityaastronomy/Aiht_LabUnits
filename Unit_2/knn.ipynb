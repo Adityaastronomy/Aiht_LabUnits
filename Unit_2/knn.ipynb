{
  "nbformat": 4,
  "nbformat_minor": 0,
  "metadata": {
    "colab": {
      "provenance": []
    },
    "kernelspec": {
      "name": "ir",
      "display_name": "R"
    },
    "language_info": {
      "name": "R"
    }
  },
  "cells": [
    {
      "cell_type": "code",
      "execution_count": 23,
      "metadata": {
        "colab": {
          "base_uri": "https://localhost:8080/",
          "height": 885
        },
        "id": "BEeB3jzngo2T",
        "outputId": "8509940f-083d-4523-847d-e1685a4c3afe"
      },
      "outputs": [
        {
          "output_type": "stream",
          "name": "stderr",
          "text": [
            "Installing package into ‘/usr/local/lib/R/site-library’\n",
            "(as ‘lib’ is unspecified)\n",
            "\n",
            "Installing package into ‘/usr/local/lib/R/site-library’\n",
            "(as ‘lib’ is unspecified)\n",
            "\n",
            "Installing package into ‘/usr/local/lib/R/site-library’\n",
            "(as ‘lib’ is unspecified)\n",
            "\n"
          ]
        },
        {
          "output_type": "stream",
          "name": "stdout",
          "text": [
            "'data.frame':\t400 obs. of  4 variables:\n",
            " $ admit: int  0 1 1 1 0 1 1 0 1 0 ...\n",
            " $ gre  : int  380 660 800 640 520 760 560 400 540 700 ...\n",
            " $ gpa  : num  3.61 3.67 4 3.19 2.93 3 2.98 3.08 3.39 3.92 ...\n",
            " $ rank : int  3 3 1 4 4 2 1 2 3 2 ...\n"
          ]
        },
        {
          "output_type": "display_data",
          "data": {
            "text/html": [
              "<table class=\"dataframe\">\n",
              "<caption>A data.frame: 6 × 4</caption>\n",
              "<thead>\n",
              "\t<tr><th></th><th scope=col>admit</th><th scope=col>gre</th><th scope=col>gpa</th><th scope=col>rank</th></tr>\n",
              "\t<tr><th></th><th scope=col>&lt;int&gt;</th><th scope=col>&lt;int&gt;</th><th scope=col>&lt;dbl&gt;</th><th scope=col>&lt;int&gt;</th></tr>\n",
              "</thead>\n",
              "<tbody>\n",
              "\t<tr><th scope=row>2</th><td>1</td><td>660</td><td>3.67</td><td>3</td></tr>\n",
              "\t<tr><th scope=row>3</th><td>1</td><td>800</td><td>4.00</td><td>1</td></tr>\n",
              "\t<tr><th scope=row>6</th><td>1</td><td>760</td><td>3.00</td><td>2</td></tr>\n",
              "\t<tr><th scope=row>7</th><td>1</td><td>560</td><td>2.98</td><td>1</td></tr>\n",
              "\t<tr><th scope=row>10</th><td>0</td><td>700</td><td>3.92</td><td>2</td></tr>\n",
              "\t<tr><th scope=row>11</th><td>0</td><td>800</td><td>4.00</td><td>4</td></tr>\n",
              "</tbody>\n",
              "</table>\n"
            ],
            "text/markdown": "\nA data.frame: 6 × 4\n\n| <!--/--> | admit &lt;int&gt; | gre &lt;int&gt; | gpa &lt;dbl&gt; | rank &lt;int&gt; |\n|---|---|---|---|---|\n| 2 | 1 | 660 | 3.67 | 3 |\n| 3 | 1 | 800 | 4.00 | 1 |\n| 6 | 1 | 760 | 3.00 | 2 |\n| 7 | 1 | 560 | 2.98 | 1 |\n| 10 | 0 | 700 | 3.92 | 2 |\n| 11 | 0 | 800 | 4.00 | 4 |\n\n",
            "text/latex": "A data.frame: 6 × 4\n\\begin{tabular}{r|llll}\n  & admit & gre & gpa & rank\\\\\n  & <int> & <int> & <dbl> & <int>\\\\\n\\hline\n\t2 & 1 & 660 & 3.67 & 3\\\\\n\t3 & 1 & 800 & 4.00 & 1\\\\\n\t6 & 1 & 760 & 3.00 & 2\\\\\n\t7 & 1 & 560 & 2.98 & 1\\\\\n\t10 & 0 & 700 & 3.92 & 2\\\\\n\t11 & 0 & 800 & 4.00 & 4\\\\\n\\end{tabular}\n",
            "text/plain": [
              "   admit gre gpa  rank\n",
              "2  1     660 3.67 3   \n",
              "3  1     800 4.00 1   \n",
              "6  1     760 3.00 2   \n",
              "7  1     560 2.98 1   \n",
              "10 0     700 3.92 2   \n",
              "11 0     800 4.00 4   "
            ]
          },
          "metadata": {}
        },
        {
          "output_type": "display_data",
          "data": {
            "text/html": [
              "<table class=\"dataframe\">\n",
              "<caption>A data.frame: 6 × 4</caption>\n",
              "<thead>\n",
              "\t<tr><th></th><th scope=col>admit</th><th scope=col>gre</th><th scope=col>gpa</th><th scope=col>rank</th></tr>\n",
              "\t<tr><th></th><th scope=col>&lt;int&gt;</th><th scope=col>&lt;int&gt;</th><th scope=col>&lt;dbl&gt;</th><th scope=col>&lt;int&gt;</th></tr>\n",
              "</thead>\n",
              "<tbody>\n",
              "\t<tr><th scope=row>1</th><td>0</td><td>380</td><td>3.61</td><td>3</td></tr>\n",
              "\t<tr><th scope=row>4</th><td>1</td><td>640</td><td>3.19</td><td>4</td></tr>\n",
              "\t<tr><th scope=row>5</th><td>0</td><td>520</td><td>2.93</td><td>4</td></tr>\n",
              "\t<tr><th scope=row>8</th><td>0</td><td>400</td><td>3.08</td><td>2</td></tr>\n",
              "\t<tr><th scope=row>9</th><td>1</td><td>540</td><td>3.39</td><td>3</td></tr>\n",
              "\t<tr><th scope=row>12</th><td>0</td><td>440</td><td>3.22</td><td>1</td></tr>\n",
              "</tbody>\n",
              "</table>\n"
            ],
            "text/markdown": "\nA data.frame: 6 × 4\n\n| <!--/--> | admit &lt;int&gt; | gre &lt;int&gt; | gpa &lt;dbl&gt; | rank &lt;int&gt; |\n|---|---|---|---|---|\n| 1 | 0 | 380 | 3.61 | 3 |\n| 4 | 1 | 640 | 3.19 | 4 |\n| 5 | 0 | 520 | 2.93 | 4 |\n| 8 | 0 | 400 | 3.08 | 2 |\n| 9 | 1 | 540 | 3.39 | 3 |\n| 12 | 0 | 440 | 3.22 | 1 |\n\n",
            "text/latex": "A data.frame: 6 × 4\n\\begin{tabular}{r|llll}\n  & admit & gre & gpa & rank\\\\\n  & <int> & <int> & <dbl> & <int>\\\\\n\\hline\n\t1 & 0 & 380 & 3.61 & 3\\\\\n\t4 & 1 & 640 & 3.19 & 4\\\\\n\t5 & 0 & 520 & 2.93 & 4\\\\\n\t8 & 0 & 400 & 3.08 & 2\\\\\n\t9 & 1 & 540 & 3.39 & 3\\\\\n\t12 & 0 & 440 & 3.22 & 1\\\\\n\\end{tabular}\n",
            "text/plain": [
              "   admit gre gpa  rank\n",
              "1  0     380 3.61 3   \n",
              "4  1     640 3.19 4   \n",
              "5  0     520 2.93 4   \n",
              "8  0     400 3.08 2   \n",
              "9  1     540 3.39 3   \n",
              "12 0     440 3.22 1   "
            ]
          },
          "metadata": {}
        },
        {
          "output_type": "display_data",
          "data": {
            "text/html": [
              "<style>\n",
              ".list-inline {list-style: none; margin:0; padding: 0}\n",
              ".list-inline>li {display: inline-block}\n",
              ".list-inline>li:not(:last-child)::after {content: \"\\00b7\"; padding: 0 .5ex}\n",
              "</style>\n",
              "<ol class=list-inline><li>0</li><li>0</li><li>0</li><li>0</li><li>1</li><li>0</li><li>1</li><li>0</li><li>1</li><li>1</li><li>0</li><li>0</li><li>1</li><li>1</li><li>1</li><li>1</li><li>0</li><li>0</li><li>0</li><li>1</li><li>0</li><li>0</li><li>0</li><li>0</li><li>0</li><li>0</li><li>0</li><li>0</li><li>0</li><li>0</li><li>1</li><li>1</li><li>0</li><li>1</li><li>1</li><li>0</li><li>1</li><li>0</li><li>0</li><li>1</li><li>1</li><li>0</li><li>1</li><li>0</li><li>0</li><li>1</li><li>0</li><li>0</li><li>0</li><li>0</li><li>0</li><li>0</li><li>1</li><li>0</li><li>0</li><li>0</li><li>0</li><li>0</li><li>0</li><li>0</li><li>1</li><li>0</li><li>0</li><li>0</li><li>0</li><li>0</li><li>0</li><li>0</li><li>0</li><li>1</li><li>0</li><li>0</li><li>0</li><li>0</li><li>1</li><li>0</li><li>1</li><li>0</li><li>0</li><li>0</li><li>0</li><li>0</li><li>0</li><li>0</li><li>0</li><li>0</li><li>0</li><li>1</li><li>0</li><li>0</li><li>0</li><li>1</li><li>0</li><li>0</li><li>0</li><li>0</li><li>0</li><li>0</li><li>0</li><li>0</li><li>0</li><li>0</li><li>1</li><li>1</li><li>0</li><li>0</li><li>0</li><li>1</li><li>0</li><li>1</li><li>0</li><li>0</li><li>0</li><li>0</li><li>0</li><li>0</li><li>0</li><li>0</li><li>1</li><li>0</li><li>0</li><li>0</li><li>0</li><li>0</li><li>0</li><li>0</li><li>1</li><li>0</li><li>1</li><li>0</li><li>0</li><li>1</li><li>1</li><li>0</li><li>1</li><li>0</li><li>1</li><li>1</li><li>0</li><li>1</li><li>0</li><li>0</li><li>0</li><li>1</li><li>0</li><li>0</li><li>0</li><li>0</li><li>1</li><li>0</li><li>0</li><li>1</li><li>0</li><li>0</li><li>0</li><li>0</li><li>0</li><li>0</li><li>0</li><li>0</li><li>0</li><li>0</li><li>0</li><li>1</li><li>0</li><li>0</li><li>0</li><li>1</li><li>0</li><li>1</li><li>0</li><li>0</li><li>0</li><li>0</li><li>0</li><li>0</li><li>1</li><li>1</li><li>0</li><li>0</li><li>1</li><li>0</li><li>1</li><li>0</li><li>0</li><li>1</li><li>1</li><li>0</li><li>0</li><li>0</li><li>0</li><li>0</li><li>1</li><li>0</li><li>0</li><li>1</li><li>1</li><li>0</li><li>0</li><li>0</li></ol>\n",
              "\n",
              "<details>\n",
              "\t<summary style=display:list-item;cursor:pointer>\n",
              "\t\t<strong>Levels</strong>:\n",
              "\t</summary>\n",
              "\t<style>\n",
              "\t.list-inline {list-style: none; margin:0; padding: 0}\n",
              "\t.list-inline>li {display: inline-block}\n",
              "\t.list-inline>li:not(:last-child)::after {content: \"\\00b7\"; padding: 0 .5ex}\n",
              "\t</style>\n",
              "\t<ol class=list-inline><li>'0'</li><li>'1'</li></ol>\n",
              "</details>"
            ],
            "text/markdown": "1. 0\n2. 0\n3. 0\n4. 0\n5. 1\n6. 0\n7. 1\n8. 0\n9. 1\n10. 1\n11. 0\n12. 0\n13. 1\n14. 1\n15. 1\n16. 1\n17. 0\n18. 0\n19. 0\n20. 1\n21. 0\n22. 0\n23. 0\n24. 0\n25. 0\n26. 0\n27. 0\n28. 0\n29. 0\n30. 0\n31. 1\n32. 1\n33. 0\n34. 1\n35. 1\n36. 0\n37. 1\n38. 0\n39. 0\n40. 1\n41. 1\n42. 0\n43. 1\n44. 0\n45. 0\n46. 1\n47. 0\n48. 0\n49. 0\n50. 0\n51. 0\n52. 0\n53. 1\n54. 0\n55. 0\n56. 0\n57. 0\n58. 0\n59. 0\n60. 0\n61. 1\n62. 0\n63. 0\n64. 0\n65. 0\n66. 0\n67. 0\n68. 0\n69. 0\n70. 1\n71. 0\n72. 0\n73. 0\n74. 0\n75. 1\n76. 0\n77. 1\n78. 0\n79. 0\n80. 0\n81. 0\n82. 0\n83. 0\n84. 0\n85. 0\n86. 0\n87. 0\n88. 1\n89. 0\n90. 0\n91. 0\n92. 1\n93. 0\n94. 0\n95. 0\n96. 0\n97. 0\n98. 0\n99. 0\n100. 0\n101. 0\n102. 0\n103. 1\n104. 1\n105. 0\n106. 0\n107. 0\n108. 1\n109. 0\n110. 1\n111. 0\n112. 0\n113. 0\n114. 0\n115. 0\n116. 0\n117. 0\n118. 0\n119. 1\n120. 0\n121. 0\n122. 0\n123. 0\n124. 0\n125. 0\n126. 0\n127. 1\n128. 0\n129. 1\n130. 0\n131. 0\n132. 1\n133. 1\n134. 0\n135. 1\n136. 0\n137. 1\n138. 1\n139. 0\n140. 1\n141. 0\n142. 0\n143. 0\n144. 1\n145. 0\n146. 0\n147. 0\n148. 0\n149. 1\n150. 0\n151. 0\n152. 1\n153. 0\n154. 0\n155. 0\n156. 0\n157. 0\n158. 0\n159. 0\n160. 0\n161. 0\n162. 0\n163. 0\n164. 1\n165. 0\n166. 0\n167. 0\n168. 1\n169. 0\n170. 1\n171. 0\n172. 0\n173. 0\n174. 0\n175. 0\n176. 0\n177. 1\n178. 1\n179. 0\n180. 0\n181. 1\n182. 0\n183. 1\n184. 0\n185. 0\n186. 1\n187. 1\n188. 0\n189. 0\n190. 0\n191. 0\n192. 0\n193. 1\n194. 0\n195. 0\n196. 1\n197. 1\n198. 0\n199. 0\n200. 0\n\n\n\n**Levels**: 1. '0'\n2. '1'\n\n\n",
            "text/latex": "\\begin{enumerate*}\n\\item 0\n\\item 0\n\\item 0\n\\item 0\n\\item 1\n\\item 0\n\\item 1\n\\item 0\n\\item 1\n\\item 1\n\\item 0\n\\item 0\n\\item 1\n\\item 1\n\\item 1\n\\item 1\n\\item 0\n\\item 0\n\\item 0\n\\item 1\n\\item 0\n\\item 0\n\\item 0\n\\item 0\n\\item 0\n\\item 0\n\\item 0\n\\item 0\n\\item 0\n\\item 0\n\\item 1\n\\item 1\n\\item 0\n\\item 1\n\\item 1\n\\item 0\n\\item 1\n\\item 0\n\\item 0\n\\item 1\n\\item 1\n\\item 0\n\\item 1\n\\item 0\n\\item 0\n\\item 1\n\\item 0\n\\item 0\n\\item 0\n\\item 0\n\\item 0\n\\item 0\n\\item 1\n\\item 0\n\\item 0\n\\item 0\n\\item 0\n\\item 0\n\\item 0\n\\item 0\n\\item 1\n\\item 0\n\\item 0\n\\item 0\n\\item 0\n\\item 0\n\\item 0\n\\item 0\n\\item 0\n\\item 1\n\\item 0\n\\item 0\n\\item 0\n\\item 0\n\\item 1\n\\item 0\n\\item 1\n\\item 0\n\\item 0\n\\item 0\n\\item 0\n\\item 0\n\\item 0\n\\item 0\n\\item 0\n\\item 0\n\\item 0\n\\item 1\n\\item 0\n\\item 0\n\\item 0\n\\item 1\n\\item 0\n\\item 0\n\\item 0\n\\item 0\n\\item 0\n\\item 0\n\\item 0\n\\item 0\n\\item 0\n\\item 0\n\\item 1\n\\item 1\n\\item 0\n\\item 0\n\\item 0\n\\item 1\n\\item 0\n\\item 1\n\\item 0\n\\item 0\n\\item 0\n\\item 0\n\\item 0\n\\item 0\n\\item 0\n\\item 0\n\\item 1\n\\item 0\n\\item 0\n\\item 0\n\\item 0\n\\item 0\n\\item 0\n\\item 0\n\\item 1\n\\item 0\n\\item 1\n\\item 0\n\\item 0\n\\item 1\n\\item 1\n\\item 0\n\\item 1\n\\item 0\n\\item 1\n\\item 1\n\\item 0\n\\item 1\n\\item 0\n\\item 0\n\\item 0\n\\item 1\n\\item 0\n\\item 0\n\\item 0\n\\item 0\n\\item 1\n\\item 0\n\\item 0\n\\item 1\n\\item 0\n\\item 0\n\\item 0\n\\item 0\n\\item 0\n\\item 0\n\\item 0\n\\item 0\n\\item 0\n\\item 0\n\\item 0\n\\item 1\n\\item 0\n\\item 0\n\\item 0\n\\item 1\n\\item 0\n\\item 1\n\\item 0\n\\item 0\n\\item 0\n\\item 0\n\\item 0\n\\item 0\n\\item 1\n\\item 1\n\\item 0\n\\item 0\n\\item 1\n\\item 0\n\\item 1\n\\item 0\n\\item 0\n\\item 1\n\\item 1\n\\item 0\n\\item 0\n\\item 0\n\\item 0\n\\item 0\n\\item 1\n\\item 0\n\\item 0\n\\item 1\n\\item 1\n\\item 0\n\\item 0\n\\item 0\n\\end{enumerate*}\n\n\\emph{Levels}: \\begin{enumerate*}\n\\item '0'\n\\item '1'\n\\end{enumerate*}\n",
            "text/plain": [
              "  [1] 0 0 0 0 1 0 1 0 1 1 0 0 1 1 1 1 0 0 0 1 0 0 0 0 0 0 0 0 0 0 1 1 0 1 1 0 1\n",
              " [38] 0 0 1 1 0 1 0 0 1 0 0 0 0 0 0 1 0 0 0 0 0 0 0 1 0 0 0 0 0 0 0 0 1 0 0 0 0\n",
              " [75] 1 0 1 0 0 0 0 0 0 0 0 0 0 1 0 0 0 1 0 0 0 0 0 0 0 0 0 0 1 1 0 0 0 1 0 1 0\n",
              "[112] 0 0 0 0 0 0 0 1 0 0 0 0 0 0 0 1 0 1 0 0 1 1 0 1 0 1 1 0 1 0 0 0 1 0 0 0 0\n",
              "[149] 1 0 0 1 0 0 0 0 0 0 0 0 0 0 0 1 0 0 0 1 0 1 0 0 0 0 0 0 1 1 0 0 1 0 1 0 0\n",
              "[186] 1 1 0 0 0 0 0 1 0 0 1 1 0 0 0\n",
              "Levels: 0 1"
            ]
          },
          "metadata": {}
        }
      ],
      "source": [
        "# KNN\n",
        "#by Raghav Mangla\n",
        "# 2021UCA1822\n",
        "\n",
        "# Installing Packages\n",
        "install.packages(\"e1071\")\n",
        "install.packages(\"caTools\")\n",
        "install.packages(\"class\")\n",
        "\n",
        "# Loading package\n",
        "library(e1071)\n",
        "library(caTools)\n",
        "library(class)\n",
        "\n",
        "\n",
        "# Classification\n",
        "data <- read.csv('binary.csv')\n",
        "str(data)\n",
        "\n",
        "# Splitting data into train and test data\n",
        "split <- sample.split(data, SplitRatio = 0.7)\n",
        "train_cl <- subset(data, split == \"TRUE\")\n",
        "test_cl <- subset(data, split == \"FALSE\")\n",
        "\n",
        "\n",
        "\n",
        "head(train_cl)\n",
        "head(test_cl)\n",
        "\n",
        "\n",
        "# Fitting KNN Model to training dataset\n",
        "classifier_knn <- knn(train = train_cl,\n",
        "                      test = test_cl,\n",
        "                      cl = train_cl$admit,\n",
        "                      k = 1)\n",
        "classifier_knn\n",
        "\n",
        "\n",
        "\n"
      ]
    },
    {
      "cell_type": "code",
      "source": [
        "# Confusiin Matrix\n",
        "cm <- table(test_cl$admit, classifier_knn)\n",
        "cm"
      ],
      "metadata": {
        "colab": {
          "base_uri": "https://localhost:8080/",
          "height": 86
        },
        "id": "YPEIbQAs-We4",
        "outputId": "606c3626-2c53-4dab-f2b1-5ab10700b285"
      },
      "execution_count": 24,
      "outputs": [
        {
          "output_type": "display_data",
          "data": {
            "text/plain": [
              "   classifier_knn\n",
              "      0   1\n",
              "  0 139   7\n",
              "  1   8  46"
            ]
          },
          "metadata": {}
        }
      ]
    },
    {
      "cell_type": "code",
      "source": [
        "# Model Evaluation - Choosing K\n",
        "# Calculate out of Sample error\n",
        "misClassError <- mean(classifier_knn != test_cl$admit)\n",
        "print(paste('Accuracy =', 1-misClassError))\n",
        "\n",
        "# K = 3\n",
        "classifier_knn <- knn(train = train_cl,\n",
        "                      test = test_cl,\n",
        "                      cl = train_cl$admit,\n",
        "                      k = 3)\n",
        "misClassError <- mean(classifier_knn != test_cl$admit)\n",
        "print(paste('Accuracy =', 1-misClassError))\n",
        "\n",
        "# K = 5\n",
        "classifier_knn <- knn(train = train_cl,\n",
        "                      test = test_cl,\n",
        "                      cl = train_cl$admit,\n",
        "                      k = 5)\n",
        "misClassError <- mean(classifier_knn != test_cl$admit)\n",
        "print(paste('Accuracy =', 1-misClassError))\n",
        "\n",
        "# K = 7\n",
        "classifier_knn <- knn(train = train_cl,\n",
        "                      test = test_cl,\n",
        "                      cl = train_cl$admit,\n",
        "                      k = 7)\n",
        "misClassError <- mean(classifier_knn != test_cl$admit)\n",
        "print(paste('Accuracy =', 1-misClassError))\n",
        "\n",
        "# K = 15\n",
        "classifier_knn <- knn(train = train_cl,\n",
        "                      test = test_cl,\n",
        "                      cl = train_cl$admit,\n",
        "                      k = 15)\n",
        "misClassError <- mean(classifier_knn != test_cl$admit)\n",
        "print(paste('Accuracy =', 1-misClassError))\n",
        "\n",
        "# K = 19\n",
        "classifier_knn <- knn(train = train_cl,\n",
        "                      test = test_cl,\n",
        "                      cl = train_cl$admit,\n",
        "                      k = 19)\n",
        "misClassError <- mean(classifier_knn != test_cl$admit)\n",
        "print(paste('Accuracy =', 1-misClassError))"
      ],
      "metadata": {
        "colab": {
          "base_uri": "https://localhost:8080/"
        },
        "id": "6w88W4RV-ROf",
        "outputId": "c606eaa3-02e2-468f-a293-ee4e38b3a87e"
      },
      "execution_count": 25,
      "outputs": [
        {
          "output_type": "stream",
          "name": "stdout",
          "text": [
            "[1] \"Accuracy = 0.925\"\n",
            "[1] \"Accuracy = 0.895\"\n",
            "[1] \"Accuracy = 0.86\"\n",
            "[1] \"Accuracy = 0.8\"\n",
            "[1] \"Accuracy = 0.795\"\n",
            "[1] \"Accuracy = 0.79\"\n"
          ]
        }
      ]
    },
    {
      "cell_type": "code",
      "source": [
        "install.packages(\"ggplot2\");\n",
        "library(ggplot2)\n",
        "\n",
        "# Data preparation\n",
        "k_values <- c(1, 3, 5, 7, 15, 19)\n",
        "\n",
        "# Calculate accuracy for each k value\n",
        "accuracy_values <- sapply(k_values, function(k) {\n",
        "  classifier_knn <- knn(train = train_scale,\n",
        "                        test = test_scale,\n",
        "                        cl = train_cl$admit,\n",
        "                        k = k)\n",
        "  1 - mean(classifier_knn != test_cl$admit)\n",
        "})\n",
        "\n",
        "# Create a data frame for plotting\n",
        "accuracy_data <- data.frame(K = k_values, Accuracy = accuracy_values)\n",
        "\n",
        "# Plotting\n",
        "ggplot(accuracy_data, aes(x = K, y = Accuracy)) +\n",
        "  geom_line(color = \"lightblue\", size = 1) +\n",
        "  geom_point(color = \"lightgreen\", size = 3) +\n",
        "  labs(title = \"Model Accuracy for Different K Values\",\n",
        "       x = \"Number of Neighbors (K)\",\n",
        "       y = \"Accuracy\") +\n",
        "  theme_minimal()"
      ],
      "metadata": {
        "colab": {
          "base_uri": "https://localhost:8080/",
          "height": 489
        },
        "id": "zNqJO05G7btj",
        "outputId": "569c1d9f-e112-4c46-f449-aae9505191bb"
      },
      "execution_count": 26,
      "outputs": [
        {
          "output_type": "stream",
          "name": "stderr",
          "text": [
            "Installing package into ‘/usr/local/lib/R/site-library’\n",
            "(as ‘lib’ is unspecified)\n",
            "\n"
          ]
        },
        {
          "output_type": "display_data",
          "data": {
            "text/plain": [
              "plot without title"
            ],
            "image/png": "[encoded data removed]"
          },
          "metadata": {
            "image/png": {
              "width": 420,
              "height": 420
            }
          }
        }
      ]
    }
  ]
}